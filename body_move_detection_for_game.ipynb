{
  "cells": [
    {
      "cell_type": "markdown",
      "metadata": {
        "id": "view-in-github",
        "colab_type": "text"
      },
      "source": [
        "<a href=\"https://colab.research.google.com/github/hamednasr/Computer-Vision-with-Python/blob/main/body_move_detection_for_game.ipynb\" target=\"_parent\"><img src=\"https://colab.research.google.com/assets/colab-badge.svg\" alt=\"Open In Colab\"/></a>"
      ]
    },
    {
      "cell_type": "markdown",
      "id": "bce76a38",
      "metadata": {
        "id": "bce76a38"
      },
      "source": [
        "# import libraries:"
      ]
    },
    {
      "cell_type": "code",
      "execution_count": null,
      "id": "4ee6b07e",
      "metadata": {
        "id": "4ee6b07e"
      },
      "outputs": [],
      "source": [
        "import tensorflow as tf\n",
        "import cv2\n",
        "import numpy as np\n",
        "import matplotlib.pyplot as plt"
      ]
    },
    {
      "cell_type": "markdown",
      "id": "541b0e04",
      "metadata": {
        "id": "541b0e04"
      },
      "source": [
        "# load model:"
      ]
    },
    {
      "cell_type": "code",
      "execution_count": null,
      "id": "f12c00bb",
      "metadata": {
        "id": "f12c00bb"
      },
      "outputs": [],
      "source": [
        "interpreter = tf.lite.Interpreter(model_path='lite-model_movenet_singlepose_lightning_3.tflite')\n",
        "interpreter.allocate_tensors()"
      ]
    },
    {
      "cell_type": "markdown",
      "id": "5549a16d",
      "metadata": {
        "id": "5549a16d"
      },
      "source": [
        "# make detection:"
      ]
    },
    {
      "cell_type": "code",
      "execution_count": null,
      "id": "9852f7be",
      "metadata": {
        "id": "9852f7be"
      },
      "outputs": [],
      "source": [
        ""
      ]
    }
  ],
  "metadata": {
    "kernelspec": {
      "display_name": "Python 3 (ipykernel)",
      "language": "python",
      "name": "python3"
    },
    "language_info": {
      "codemirror_mode": {
        "name": "ipython",
        "version": 3
      },
      "file_extension": ".py",
      "mimetype": "text/x-python",
      "name": "python",
      "nbconvert_exporter": "python",
      "pygments_lexer": "ipython3",
      "version": "3.9.7"
    },
    "colab": {
      "name": "body move detection for game.ipynb",
      "provenance": [],
      "include_colab_link": true
    }
  },
  "nbformat": 4,
  "nbformat_minor": 5
}