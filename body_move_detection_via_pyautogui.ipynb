{
  "cells": [
    {
      "cell_type": "markdown",
      "metadata": {
        "id": "view-in-github",
        "colab_type": "text"
      },
      "source": [
        "<a href=\"https://colab.research.google.com/github/hamednasr/Computer-Vision-with-Python/blob/main/body_move_detection_via_pyautogui.ipynb\" target=\"_parent\"><img src=\"https://colab.research.google.com/assets/colab-badge.svg\" alt=\"Open In Colab\"/></a>"
      ]
    },
    {
      "cell_type": "markdown",
      "metadata": {
        "id": "KPT9rlVE4r2j"
      },
      "source": [
        "# Import Libraries:"
      ]
    },
    {
      "cell_type": "code",
      "execution_count": null,
      "metadata": {
        "id": "gfqGD2V24r2m"
      },
      "outputs": [],
      "source": [
        "import cv2\n",
        "import pyautogui\n",
        "from time import time\n",
        "from math import hypot\n",
        "import mediapipe as mp\n",
        "import matplotlib.pyplot as plt"
      ]
    },
    {
      "cell_type": "markdown",
      "metadata": {
        "id": "b3MaISGo4r2n"
      },
      "source": [
        "# Pose Detection Model:"
      ]
    },
    {
      "cell_type": "code",
      "execution_count": null,
      "metadata": {
        "id": "dG-AVCOg4r2o"
      },
      "outputs": [],
      "source": [
        "# Initialize mediapipe pose class.\n",
        "mp_pose = mp.solutions.pose\n",
        "\n",
        "# Setup the Pose function for images.\n",
        "pose_image = mp_pose.Pose(static_image_mode=True, min_detection_confidence=0.5, model_complexity=1)\n",
        "\n",
        "# Setup the Pose function for videos.\n",
        "pose_video = mp_pose.Pose(static_image_mode=False, model_complexity=1, min_detection_confidence=0.7,\n",
        "                          min_tracking_confidence=0.7)\n",
        "\n",
        "# Initialize mediapipe drawing class.\n",
        "mp_drawing = mp.solutions.drawing_utils "
      ]
    },
    {
      "cell_type": "code",
      "execution_count": null,
      "metadata": {
        "id": "ScZsu4aF4r2q"
      },
      "outputs": [],
      "source": [
        "def detectPose(image, pose, draw=False, display=False):\n",
        "    '''\n",
        "    This function performs the pose detection on the most prominent person in an image.\n",
        "    Args:\n",
        "        image:   The input image with a prominent person whose pose landmarks needs to be detected.\n",
        "        pose:    The pose function required to perform the pose detection.\n",
        "        draw:    A boolean value that is if set to true the function draw pose landmarks on the output image. \n",
        "        display: A boolean value that is if set to true the function displays the original input image, and the \n",
        "                 resultant image and returns nothing.\n",
        "    Returns:\n",
        "        output_image: The input image with the detected pose landmarks drawn if it was specified.\n",
        "        results:      The output of the pose landmarks detection on the input image.\n",
        "    '''\n",
        "    \n",
        "    # Create a copy of the input image.\n",
        "    output_image = image.copy()\n",
        "    \n",
        "    # Convert the image from BGR into RGB format.\n",
        "    imageRGB = cv2.cvtColor(image, cv2.COLOR_BGR2RGB)\n",
        "    \n",
        "    # Perform the Pose Detection.\n",
        "    results = pose.process(imageRGB)\n",
        "    \n",
        "    # Check if any landmarks are detected and are specified to be drawn.\n",
        "    if results.pose_landmarks and draw:\n",
        "    \n",
        "        # Draw Pose Landmarks on the output image.\n",
        "        mp_drawing.draw_landmarks(image=output_image, landmark_list=results.pose_landmarks,\n",
        "                                  connections=mp_pose.POSE_CONNECTIONS,\n",
        "                                  landmark_drawing_spec=mp_drawing.DrawingSpec(color=(255,255,255),\n",
        "                                                                               thickness=3, circle_radius=3),\n",
        "                                  connection_drawing_spec=mp_drawing.DrawingSpec(color=(49,125,237),\n",
        "                                                                               thickness=2, circle_radius=2))\n",
        "\n",
        "    # Check if the original input image and the resultant image are specified to be displayed.\n",
        "    if display:\n",
        "    \n",
        "        # Display the original input image and the resultant image.\n",
        "        plt.figure(figsize=[22,22])\n",
        "        plt.subplot(121);plt.imshow(image[:,:,::-1]);plt.title(\"Original Image\");plt.axis('off');\n",
        "        plt.subplot(122);plt.imshow(output_image[:,:,::-1]);plt.title(\"Output Image\");plt.axis('off');\n",
        "        \n",
        "    # Otherwise\n",
        "    else:\n",
        "\n",
        "        # Return the output image and the results of pose landmarks detection.\n",
        "        return output_image, results"
      ]
    },
    {
      "cell_type": "code",
      "execution_count": null,
      "metadata": {
        "id": "8B9YEUjI4r21"
      },
      "outputs": [],
      "source": [
        ""
      ]
    },
    {
      "cell_type": "code",
      "execution_count": null,
      "metadata": {
        "id": "ZuFo7X8g4r22"
      },
      "outputs": [],
      "source": [
        ""
      ]
    },
    {
      "cell_type": "code",
      "execution_count": null,
      "metadata": {
        "id": "ANYwoKU74r22"
      },
      "outputs": [],
      "source": [
        ""
      ]
    },
    {
      "cell_type": "code",
      "execution_count": null,
      "metadata": {
        "id": "QwTDxRxJ4r23"
      },
      "outputs": [],
      "source": [
        ""
      ]
    },
    {
      "cell_type": "code",
      "execution_count": null,
      "metadata": {
        "id": "Lip1uGZH4r24"
      },
      "outputs": [],
      "source": [
        ""
      ]
    },
    {
      "cell_type": "code",
      "execution_count": null,
      "metadata": {
        "id": "NqV52ipX4r24"
      },
      "outputs": [],
      "source": [
        ""
      ]
    }
  ],
  "metadata": {
    "kernelspec": {
      "display_name": "Python 3 (ipykernel)",
      "language": "python",
      "name": "python3"
    },
    "language_info": {
      "codemirror_mode": {
        "name": "ipython",
        "version": 3
      },
      "file_extension": ".py",
      "mimetype": "text/x-python",
      "name": "python",
      "nbconvert_exporter": "python",
      "pygments_lexer": "ipython3",
      "version": "3.9.7"
    },
    "colab": {
      "name": "body move detection via pyautogui.ipynb",
      "provenance": [],
      "include_colab_link": true
    }
  },
  "nbformat": 4,
  "nbformat_minor": 0
}