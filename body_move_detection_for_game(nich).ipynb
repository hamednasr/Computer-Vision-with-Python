{
  "cells": [
    {
      "cell_type": "markdown",
      "metadata": {
        "id": "view-in-github",
        "colab_type": "text"
      },
      "source": [
        "<a href=\"https://colab.research.google.com/github/hamednasr/Computer-Vision-with-Python/blob/main/body_move_detection_for_game(nich).ipynb\" target=\"_parent\"><img src=\"https://colab.research.google.com/assets/colab-badge.svg\" alt=\"Open In Colab\"/></a>"
      ]
    },
    {
      "cell_type": "code",
      "execution_count": null,
      "metadata": {
        "id": "Tf4AEUdfLqo0"
      },
      "outputs": [],
      "source": [
        "import tensorflow as tf\n",
        "import numpy as np\n",
        "from matplotlib import pyplot as plt\n",
        "import cv2\n",
        "import os\n",
        "import time\n",
        "from sklearn.model_selection import train_test_split"
      ]
    },
    {
      "cell_type": "code",
      "execution_count": null,
      "metadata": {
        "id": "WH6mUYB1Lqo-"
      },
      "outputs": [],
      "source": [
        "interpreter = tf.lite.Interpreter(model_path='movenets/lite-model_movenet_singlepose_lightning_3.tflite')\n",
        "interpreter.allocate_tensors()\n",
        "input_size = 192\n",
        "# input_size = 256"
      ]
    },
    {
      "cell_type": "code",
      "execution_count": null,
      "metadata": {
        "id": "6xT1IkRBLqo-"
      },
      "outputs": [],
      "source": [
        "actions = np.array(['jump','crouch','right_jump','left_jump','run'])\n",
        "EDGES = {\n",
        "    (0, 1): 'm',\n",
        "    (0, 2): 'c',\n",
        "    (1, 3): 'm',\n",
        "    (2, 4): 'c',\n",
        "    (0, 5): 'm',\n",
        "    (0, 6): 'c',\n",
        "    (5, 7): 'm',\n",
        "    (7, 9): 'm',\n",
        "    (6, 8): 'c',\n",
        "    (8, 10): 'c',\n",
        "    (5, 6): 'y',\n",
        "    (5, 11): 'm',\n",
        "    (6, 12): 'c',\n",
        "    (11, 12): 'y',\n",
        "    (11, 13): 'm',\n",
        "    (13, 15): 'm',\n",
        "    (12, 14): 'c',\n",
        "    (14, 16): 'c'\n",
        "}"
      ]
    },
    {
      "cell_type": "code",
      "execution_count": null,
      "metadata": {
        "id": "_nfh0ErzLqo_",
        "outputId": "4e11fbc4-b723-49fc-e017-5662e0763d5a"
      },
      "outputs": [
        {
          "data": {
            "text/plain": [
              "{'jump': 0, 'crouch': 1, 'right_jump': 2, 'left_jump': 3, 'run': 4}"
            ]
          },
          "execution_count": 34,
          "metadata": {},
          "output_type": "execute_result"
        }
      ],
      "source": [
        "label_map = {label:num for num, label in enumerate(actions)}\n",
        "label_map"
      ]
    },
    {
      "cell_type": "code",
      "execution_count": null,
      "metadata": {
        "id": "9BFm08WuLqpA"
      },
      "outputs": [],
      "source": [
        "def draw_keypoints(frame, keypoints, confidence_threshold):\n",
        "    y, x, c = frame.shape\n",
        "    shaped = np.squeeze(np.multiply(keypoints, [y,x,1]))\n",
        "    \n",
        "    for kp in shaped:\n",
        "        ky, kx, kp_conf = kp\n",
        "        if kp_conf > confidence_threshold:\n",
        "            cv2.circle(frame, (int(kx), int(ky)), 4, (0,255,0), -1) "
      ]
    },
    {
      "cell_type": "code",
      "execution_count": null,
      "metadata": {
        "id": "pyK3fIhVLqpB"
      },
      "outputs": [],
      "source": [
        "def draw_connections(frame, keypoints, edges, confidence_threshold):\n",
        "    y, x, c = frame.shape\n",
        "    shaped = np.squeeze(np.multiply(keypoints, [y,x,1]))\n",
        "    \n",
        "    for edge, color in edges.items():\n",
        "        p1, p2 = edge\n",
        "        y1, x1, c1 = shaped[p1]\n",
        "        y2, x2, c2 = shaped[p2]\n",
        "        \n",
        "        if (c1 > confidence_threshold) & (c2 > confidence_threshold):      \n",
        "            cv2.line(frame, (int(x1), int(y1)), (int(x2), int(y2)), (0,0,255), 2)"
      ]
    },
    {
      "cell_type": "code",
      "execution_count": null,
      "metadata": {
        "id": "Hz4R0isYLqpB"
      },
      "outputs": [],
      "source": [
        "def movenet_keypoints(image, input_size=192):\n",
        "    \n",
        "    # Reshape image\n",
        "    img = tf.image.resize_with_pad(np.expand_dims(image, axis=0), input_size,input_size)\n",
        "    input_image = tf.cast(img, dtype=tf.float32)\n",
        "\n",
        "    # Setup input and output \n",
        "    input_details = interpreter.get_input_details()\n",
        "    output_details = interpreter.get_output_details()\n",
        "\n",
        "    # Make predictions \n",
        "    interpreter.set_tensor(input_details[0]['index'], np.array(input_image))\n",
        "    interpreter.invoke()\n",
        "    keypoints_with_scores = interpreter.get_tensor(output_details[0]['index'])\n",
        "    \n",
        "    \n",
        "    return keypoints_with_scores   "
      ]
    },
    {
      "cell_type": "markdown",
      "metadata": {
        "id": "JGjR0FItLqpC"
      },
      "source": [
        "# draw keypoints on cam video:"
      ]
    },
    {
      "cell_type": "code",
      "execution_count": null,
      "metadata": {
        "id": "sqaAL1DfLqpC"
      },
      "outputs": [],
      "source": [
        "cap = cv2.VideoCapture(0)\n",
        "while cap.isOpened():\n",
        "    ret, frame = cap.read()\n",
        "    \n",
        "    # Reshape image\n",
        "    \n",
        "    img = tf.image.resize_with_pad(np.expand_dims(frame, axis=0), input_size,input_size)\n",
        "    input_image = tf.cast(img, dtype=tf.float32)\n",
        "    \n",
        "    # Setup input and output \n",
        "    input_details = interpreter.get_input_details()\n",
        "    output_details = interpreter.get_output_details()\n",
        "    \n",
        "    # Make predictions \n",
        "    interpreter.set_tensor(input_details[0]['index'], np.array(input_image))\n",
        "    interpreter.invoke()\n",
        "    keypoints_with_scores = interpreter.get_tensor(output_details[0]['index'])\n",
        "#     print(np.squeeze(keypoints_with_scores).flatten())\n",
        "    # Rendering \n",
        "    draw_connections(frame, keypoints_with_scores, EDGES, 0.2)\n",
        "    draw_keypoints(frame, keypoints_with_scores, 0.2)\n",
        "    \n",
        "    cv2.imshow('MoveNet Lightning', frame)\n",
        "    \n",
        "    if cv2.waitKey(10) & 0xFF==ord('q'):\n",
        "        break\n",
        "        \n",
        "cap.release()\n",
        "cv2.destroyAllWindows()"
      ]
    },
    {
      "cell_type": "markdown",
      "metadata": {
        "id": "AbIdJgDCLqpD"
      },
      "source": [
        "# record data:"
      ]
    },
    {
      "cell_type": "markdown",
      "metadata": {
        "id": "OqjqNv4XLqpD"
      },
      "source": [
        "## jump:"
      ]
    },
    {
      "cell_type": "code",
      "execution_count": null,
      "metadata": {
        "id": "EeANbfs4LqpE"
      },
      "outputs": [],
      "source": [
        "data_path = 'C:\\\\Users\\\\david\\\\Google Drive\\\\Colab Notebooks\\\\Computer Vision\\\\bodymove_data'\n",
        "no_videos = 60\n",
        "sequences_length = 20"
      ]
    },
    {
      "cell_type": "code",
      "execution_count": null,
      "metadata": {
        "id": "4lI7tLz1LqpE"
      },
      "outputs": [],
      "source": [
        "for video in range(no_videos):\n",
        "    try:\n",
        "        os.makedirs(os.path.join(data_path,'jump',str(video)))  \n",
        "    except:\n",
        "        pass        "
      ]
    },
    {
      "cell_type": "code",
      "execution_count": null,
      "metadata": {
        "id": "pmRC-nSXLqpE"
      },
      "outputs": [],
      "source": [
        "cap = cv2.VideoCapture(0)\n",
        "    \n",
        "for video in range(no_videos):\n",
        "    for frame_num in range(sequences_length):\n",
        "\n",
        "        ret, frame = cap.read()\n",
        "\n",
        "        keypoints_with_scores = movenet_keypoints(frame, input_size=192)\n",
        "        draw_keypoints(frame, keypoints_with_scores, 0.2)\n",
        "        draw_connections(frame, keypoints_with_scores, EDGES, 0.2)\n",
        "\n",
        "        if frame_num==0:\n",
        "            cv2.putText(frame,'COLLECTION START for JUMP',(150,200),\n",
        "                        cv2.FONT_HERSHEY_COMPLEX,1,(0,0,255),4,cv2.LINE_AA)\n",
        "            cv2.putText(frame,f'collecting frames for jump video numer {video}',(15,12),\n",
        "                        cv2.FONT_HERSHEY_COMPLEX,.5,(0,255,0),1,cv2.LINE_AA)\n",
        "            cv2.imshow('Webcam Feed', frame)\n",
        "            cv2.waitKey(2000)\n",
        "\n",
        "        else:\n",
        "            cv2.putText(frame,f'collecting frames for jump video numer {video}',(15,12),\n",
        "            cv2.FONT_HERSHEY_COMPLEX,0.5,(0,255,0),1,cv2.LINE_AA)\n",
        "\n",
        "            cv2.imshow('Webcam Feed', frame)\n",
        "            \n",
        "            \n",
        "        keypoints = np.squeeze(keypoints_with_scores).flatten()\n",
        "\n",
        "        npy_path = os.path.join(data_path,'jump',str(video),str(frame_num))\n",
        "        np.save(npy_path,keypoints)\n",
        "\n",
        "        if cv2.waitKey(10) & 0xFF == ord('q'):\n",
        "            break\n",
        "\n",
        "cap.release()\n",
        "cv2.destroyAllWindows()"
      ]
    },
    {
      "cell_type": "markdown",
      "metadata": {
        "id": "bKBO0H5RLqpF"
      },
      "source": [
        "## crouch:"
      ]
    },
    {
      "cell_type": "code",
      "execution_count": null,
      "metadata": {
        "id": "6GY8J1DaLqpF"
      },
      "outputs": [],
      "source": [
        "data_path = 'C:\\\\Users\\\\david\\\\Google Drive\\\\Colab Notebooks\\\\Computer Vision\\\\bodymove_data'\n",
        "no_videos = 60\n",
        "sequences_length = 20"
      ]
    },
    {
      "cell_type": "code",
      "execution_count": null,
      "metadata": {
        "id": "rlTJ0VBiLqpG"
      },
      "outputs": [],
      "source": [
        "for video in range(no_videos):\n",
        "    try:\n",
        "        os.makedirs(os.path.join(data_path,'crouch',str(video)))  \n",
        "    except:\n",
        "        pass        "
      ]
    },
    {
      "cell_type": "code",
      "execution_count": null,
      "metadata": {
        "id": "CifFcjk_LqpG"
      },
      "outputs": [],
      "source": [
        "cap = cv2.VideoCapture(0)\n",
        "    \n",
        "for video in range(no_videos):\n",
        "    for frame_num in range(sequences_length):\n",
        "\n",
        "        ret, frame = cap.read()\n",
        "\n",
        "        keypoints_with_scores = movenet_keypoints(frame, input_size=192)\n",
        "        draw_keypoints(frame, keypoints_with_scores, 0.2)\n",
        "        draw_connections(frame, keypoints_with_scores, EDGES, 0.2)\n",
        "\n",
        "        if frame_num==0:\n",
        "            cv2.putText(frame,'COLLECTION START for CROUCH',(150,200),\n",
        "                        cv2.FONT_HERSHEY_COMPLEX,1,(0,0,255),4,cv2.LINE_AA)\n",
        "            cv2.putText(frame,f'collecting frames for crouch video numer {video}',(15,12),\n",
        "                        cv2.FONT_HERSHEY_COMPLEX,.5,(0,255,0),1,cv2.LINE_AA)\n",
        "            cv2.imshow('Webcam Feed', frame)\n",
        "            cv2.waitKey(2000)\n",
        "\n",
        "        else:\n",
        "            cv2.putText(frame,f'collecting frames for crouch video numer {video}',(15,12),\n",
        "            cv2.FONT_HERSHEY_COMPLEX,0.5,(0,255,0),1,cv2.LINE_AA)\n",
        "\n",
        "            cv2.imshow('Webcam Feed', frame)\n",
        "            \n",
        "            \n",
        "        keypoints = np.squeeze(keypoints_with_scores).flatten()\n",
        "\n",
        "        npy_path = os.path.join(data_path,'crouch',str(video),str(frame_num))\n",
        "        np.save(npy_path,keypoints)\n",
        "\n",
        "        if cv2.waitKey(10) & 0xFF == ord('q'):\n",
        "            break\n",
        "\n",
        "cap.release()\n",
        "cv2.destroyAllWindows()"
      ]
    },
    {
      "cell_type": "markdown",
      "metadata": {
        "id": "6fK_FsmcLqpJ"
      },
      "source": [
        "## right jump:"
      ]
    },
    {
      "cell_type": "code",
      "execution_count": null,
      "metadata": {
        "id": "-wKvy7bVLqpL"
      },
      "outputs": [],
      "source": [
        "data_path = 'C:\\\\Users\\\\david\\\\Google Drive\\\\Colab Notebooks\\\\Computer Vision\\\\bodymove_data'\n",
        "no_videos = 60\n",
        "sequences_length = 20"
      ]
    },
    {
      "cell_type": "code",
      "execution_count": null,
      "metadata": {
        "id": "vM1oJGK7LqpL"
      },
      "outputs": [],
      "source": [
        "for video in range(no_videos):\n",
        "    try:\n",
        "        os.makedirs(os.path.join(data_path,'right_jump',str(video)))  \n",
        "    except:\n",
        "        pass        "
      ]
    },
    {
      "cell_type": "code",
      "execution_count": null,
      "metadata": {
        "id": "LpNoJnxnLqpL"
      },
      "outputs": [],
      "source": [
        "cap = cv2.VideoCapture(0)\n",
        "    \n",
        "for video in range(no_videos):\n",
        "    for frame_num in range(sequences_length):\n",
        "\n",
        "        ret, frame = cap.read()\n",
        "\n",
        "        keypoints_with_scores = movenet_keypoints(frame, input_size=192)\n",
        "        draw_keypoints(frame, keypoints_with_scores, 0.2)\n",
        "        draw_connections(frame, keypoints_with_scores, EDGES, 0.2)\n",
        "\n",
        "        if frame_num==0:\n",
        "            cv2.putText(frame,'COLLECTION START for RIGHT_JUMP',(150,200),\n",
        "                        cv2.FONT_HERSHEY_COMPLEX,1,(0,0,255),4,cv2.LINE_AA)\n",
        "            cv2.putText(frame,f'collecting frames for right_jump video numer {video}',(15,12),\n",
        "                        cv2.FONT_HERSHEY_COMPLEX,.5,(0,255,0),1,cv2.LINE_AA)\n",
        "            cv2.imshow('Webcam Feed', frame)\n",
        "            cv2.waitKey(2000)\n",
        "\n",
        "        else:\n",
        "            cv2.putText(frame,f'collecting frames for right_jump video numer {video}',(15,12),\n",
        "            cv2.FONT_HERSHEY_COMPLEX,0.5,(0,255,0),1,cv2.LINE_AA)\n",
        "\n",
        "            cv2.imshow('Webcam Feed', frame)\n",
        "            \n",
        "            \n",
        "        keypoints = np.squeeze(keypoints_with_scores).flatten()\n",
        "\n",
        "        npy_path = os.path.join(data_path,'right_jump',str(video),str(frame_num))\n",
        "        np.save(npy_path,keypoints)\n",
        "\n",
        "        if cv2.waitKey(10) & 0xFF == ord('q'):\n",
        "            break\n",
        "\n",
        "cap.release()\n",
        "cv2.destroyAllWindows()"
      ]
    },
    {
      "cell_type": "markdown",
      "metadata": {
        "id": "d6joLHL0LqpM"
      },
      "source": [
        "## left jump:"
      ]
    },
    {
      "cell_type": "code",
      "execution_count": null,
      "metadata": {
        "id": "ctGTINlVLqpM"
      },
      "outputs": [],
      "source": [
        "data_path = 'C:\\\\Users\\\\david\\\\Google Drive\\\\Colab Notebooks\\\\Computer Vision\\\\bodymove_data'\n",
        "no_videos = 60\n",
        "sequences_length = 20"
      ]
    },
    {
      "cell_type": "code",
      "execution_count": null,
      "metadata": {
        "id": "sVknPIw_LqpN"
      },
      "outputs": [],
      "source": [
        "for video in range(no_videos):\n",
        "    try:\n",
        "        os.makedirs(os.path.join(data_path,'left_jump',str(video)))  \n",
        "    except:\n",
        "        pass        "
      ]
    },
    {
      "cell_type": "code",
      "execution_count": null,
      "metadata": {
        "id": "kcVAAuiRLqpN"
      },
      "outputs": [],
      "source": [
        "cap = cv2.VideoCapture(0)\n",
        "    \n",
        "for video in range(no_videos):\n",
        "    for frame_num in range(sequences_length):\n",
        "\n",
        "        ret, frame = cap.read()\n",
        "\n",
        "        keypoints_with_scores = movenet_keypoints(frame, input_size=192)\n",
        "        draw_keypoints(frame, keypoints_with_scores, 0.2)\n",
        "        draw_connections(frame, keypoints_with_scores, EDGES, 0.2)\n",
        "\n",
        "        if frame_num==0:\n",
        "            cv2.putText(frame,'COLLECTION START for LEFT_JUMP',(150,200),\n",
        "                        cv2.FONT_HERSHEY_COMPLEX,1,(0,0,255),4,cv2.LINE_AA)\n",
        "            cv2.putText(frame,f'collecting frames for left_jump video numer {video}',(15,12),\n",
        "                        cv2.FONT_HERSHEY_COMPLEX,.5,(0,255,0),1,cv2.LINE_AA)\n",
        "            cv2.imshow('Webcam Feed', frame)\n",
        "            cv2.waitKey(2000)\n",
        "\n",
        "        else:\n",
        "            cv2.putText(frame,f'collecting frames for left_jump video numer {video}',(15,12),\n",
        "            cv2.FONT_HERSHEY_COMPLEX,0.5,(0,255,0),1,cv2.LINE_AA)\n",
        "\n",
        "            cv2.imshow('Webcam Feed', frame)\n",
        "            \n",
        "            \n",
        "        keypoints = np.squeeze(keypoints_with_scores).flatten()\n",
        "\n",
        "        npy_path = os.path.join(data_path,'left_jump',str(video),str(frame_num))\n",
        "        np.save(npy_path,keypoints)\n",
        "\n",
        "        if cv2.waitKey(10) & 0xFF == ord('q'):\n",
        "            break\n",
        "\n",
        "cap.release()\n",
        "cv2.destroyAllWindows()"
      ]
    },
    {
      "cell_type": "markdown",
      "metadata": {
        "id": "SfWdVBWTLqpN"
      },
      "source": [
        "## run:"
      ]
    },
    {
      "cell_type": "code",
      "execution_count": null,
      "metadata": {
        "id": "oqYNyKZqLqpN"
      },
      "outputs": [],
      "source": [
        "data_path = 'C:\\\\Users\\\\david\\\\Google Drive\\\\Colab Notebooks\\\\Computer Vision\\\\bodymove_data'\n",
        "no_videos = 60\n",
        "sequences_length = 20"
      ]
    },
    {
      "cell_type": "code",
      "execution_count": null,
      "metadata": {
        "id": "RVjamTd9LqpO"
      },
      "outputs": [],
      "source": [
        "for video in range(no_videos):\n",
        "    try:\n",
        "        os.makedirs(os.path.join(data_path,'run',str(video)))  \n",
        "    except:\n",
        "        pass        "
      ]
    },
    {
      "cell_type": "code",
      "execution_count": null,
      "metadata": {
        "id": "kqn2IszhLqpO"
      },
      "outputs": [],
      "source": [
        "cap = cv2.VideoCapture(0)\n",
        "    \n",
        "for video in range(no_videos):\n",
        "    for frame_num in range(sequences_length):\n",
        "\n",
        "        ret, frame = cap.read()\n",
        "\n",
        "        keypoints_with_scores = movenet_keypoints(frame, input_size=192)\n",
        "        draw_keypoints(frame, keypoints_with_scores, 0.2)\n",
        "        draw_connections(frame, keypoints_with_scores, EDGES, 0.2)\n",
        "\n",
        "        if frame_num==0:\n",
        "            cv2.putText(frame,'COLLECTION START for run',(150,200),\n",
        "                        cv2.FONT_HERSHEY_COMPLEX,1,(0,0,255),4,cv2.LINE_AA)\n",
        "            cv2.putText(frame,f'collecting frames for run video numer {video}',(15,12),\n",
        "                        cv2.FONT_HERSHEY_COMPLEX,.5,(0,255,0),1,cv2.LINE_AA)\n",
        "            cv2.imshow('Webcam Feed', frame)\n",
        "            cv2.waitKey(2000)\n",
        "\n",
        "        else:\n",
        "            cv2.putText(frame,f'collecting frames for run video numer {video}',(15,12),\n",
        "            cv2.FONT_HERSHEY_COMPLEX,0.5,(0,255,0),1,cv2.LINE_AA)\n",
        "\n",
        "            cv2.imshow('Webcam Feed', frame)\n",
        "            \n",
        "            \n",
        "        keypoints = np.squeeze(keypoints_with_scores).flatten()\n",
        "\n",
        "        npy_path = os.path.join(data_path,'run',str(video),str(frame_num))\n",
        "        np.save(npy_path,keypoints)\n",
        "\n",
        "        if cv2.waitKey(10) & 0xFF == ord('q'):\n",
        "            break\n",
        "\n",
        "cap.release()\n",
        "cv2.destroyAllWindows()"
      ]
    },
    {
      "cell_type": "markdown",
      "metadata": {
        "id": "ZPurfcMkLqpO"
      },
      "source": [
        "# preprocess data and create labels and features:"
      ]
    },
    {
      "cell_type": "code",
      "execution_count": null,
      "metadata": {
        "id": "kNrp69fCLqpP",
        "outputId": "8ec722fa-12c0-4936-c3f7-03f7ed5e186b"
      },
      "outputs": [
        {
          "data": {
            "text/plain": [
              "array(['jump', 'crouch', 'right_jump', 'left_jump', 'run'], dtype='<U10')"
            ]
          },
          "execution_count": 35,
          "metadata": {},
          "output_type": "execute_result"
        }
      ],
      "source": [
        "actions"
      ]
    },
    {
      "cell_type": "code",
      "execution_count": null,
      "metadata": {
        "id": "azNzQpOGLqpP"
      },
      "outputs": [],
      "source": [
        "sequences = []\n",
        "labels = []\n",
        "\n",
        "for action in actions:\n",
        "  for video in range(no_videos):\n",
        "    window = []\n",
        "    for frame_num in range(sequences_length):\n",
        "      res = np.load(os.path.join(data_path,action,str(video),f'{frame_num}.npy'))\n",
        "      window.append(res)\n",
        "    sequences.append(window)\n",
        "    labels.append(label_map[action])"
      ]
    },
    {
      "cell_type": "code",
      "execution_count": null,
      "metadata": {
        "id": "dRd7006kLqpP",
        "outputId": "65fc56f3-2bb8-4368-8a12-104d7a1679d7"
      },
      "outputs": [
        {
          "data": {
            "text/plain": [
              "[0,\n",
              " 0,\n",
              " 0,\n",
              " 0,\n",
              " 0,\n",
              " 0,\n",
              " 0,\n",
              " 0,\n",
              " 0,\n",
              " 0,\n",
              " 0,\n",
              " 0,\n",
              " 0,\n",
              " 0,\n",
              " 0,\n",
              " 0,\n",
              " 0,\n",
              " 0,\n",
              " 0,\n",
              " 0,\n",
              " 0,\n",
              " 0,\n",
              " 0,\n",
              " 0,\n",
              " 0,\n",
              " 0,\n",
              " 0,\n",
              " 0,\n",
              " 0,\n",
              " 0,\n",
              " 0,\n",
              " 0,\n",
              " 0,\n",
              " 0,\n",
              " 0,\n",
              " 0,\n",
              " 0,\n",
              " 0,\n",
              " 0,\n",
              " 0,\n",
              " 0,\n",
              " 0,\n",
              " 0,\n",
              " 0,\n",
              " 0,\n",
              " 0,\n",
              " 0,\n",
              " 0,\n",
              " 0,\n",
              " 0,\n",
              " 0,\n",
              " 0,\n",
              " 0,\n",
              " 0,\n",
              " 0,\n",
              " 0,\n",
              " 0,\n",
              " 0,\n",
              " 0,\n",
              " 0,\n",
              " 1,\n",
              " 1,\n",
              " 1,\n",
              " 1,\n",
              " 1,\n",
              " 1,\n",
              " 1,\n",
              " 1,\n",
              " 1,\n",
              " 1,\n",
              " 1,\n",
              " 1,\n",
              " 1,\n",
              " 1,\n",
              " 1,\n",
              " 1,\n",
              " 1,\n",
              " 1,\n",
              " 1,\n",
              " 1,\n",
              " 1,\n",
              " 1,\n",
              " 1,\n",
              " 1,\n",
              " 1,\n",
              " 1,\n",
              " 1,\n",
              " 1,\n",
              " 1,\n",
              " 1,\n",
              " 1,\n",
              " 1,\n",
              " 1,\n",
              " 1,\n",
              " 1,\n",
              " 1,\n",
              " 1,\n",
              " 1,\n",
              " 1,\n",
              " 1,\n",
              " 1,\n",
              " 1,\n",
              " 1,\n",
              " 1,\n",
              " 1,\n",
              " 1,\n",
              " 1,\n",
              " 1,\n",
              " 1,\n",
              " 1,\n",
              " 1,\n",
              " 1,\n",
              " 1,\n",
              " 1,\n",
              " 1,\n",
              " 1,\n",
              " 1,\n",
              " 1,\n",
              " 1,\n",
              " 1,\n",
              " 2,\n",
              " 2,\n",
              " 2,\n",
              " 2,\n",
              " 2,\n",
              " 2,\n",
              " 2,\n",
              " 2,\n",
              " 2,\n",
              " 2,\n",
              " 2,\n",
              " 2,\n",
              " 2,\n",
              " 2,\n",
              " 2,\n",
              " 2,\n",
              " 2,\n",
              " 2,\n",
              " 2,\n",
              " 2,\n",
              " 2,\n",
              " 2,\n",
              " 2,\n",
              " 2,\n",
              " 2,\n",
              " 2,\n",
              " 2,\n",
              " 2,\n",
              " 2,\n",
              " 2,\n",
              " 2,\n",
              " 2,\n",
              " 2,\n",
              " 2,\n",
              " 2,\n",
              " 2,\n",
              " 2,\n",
              " 2,\n",
              " 2,\n",
              " 2,\n",
              " 2,\n",
              " 2,\n",
              " 2,\n",
              " 2,\n",
              " 2,\n",
              " 2,\n",
              " 2,\n",
              " 2,\n",
              " 2,\n",
              " 2,\n",
              " 2,\n",
              " 2,\n",
              " 2,\n",
              " 2,\n",
              " 2,\n",
              " 2,\n",
              " 2,\n",
              " 2,\n",
              " 2,\n",
              " 2,\n",
              " 3,\n",
              " 3,\n",
              " 3,\n",
              " 3,\n",
              " 3,\n",
              " 3,\n",
              " 3,\n",
              " 3,\n",
              " 3,\n",
              " 3,\n",
              " 3,\n",
              " 3,\n",
              " 3,\n",
              " 3,\n",
              " 3,\n",
              " 3,\n",
              " 3,\n",
              " 3,\n",
              " 3,\n",
              " 3,\n",
              " 3,\n",
              " 3,\n",
              " 3,\n",
              " 3,\n",
              " 3,\n",
              " 3,\n",
              " 3,\n",
              " 3,\n",
              " 3,\n",
              " 3,\n",
              " 3,\n",
              " 3,\n",
              " 3,\n",
              " 3,\n",
              " 3,\n",
              " 3,\n",
              " 3,\n",
              " 3,\n",
              " 3,\n",
              " 3,\n",
              " 3,\n",
              " 3,\n",
              " 3,\n",
              " 3,\n",
              " 3,\n",
              " 3,\n",
              " 3,\n",
              " 3,\n",
              " 3,\n",
              " 3,\n",
              " 3,\n",
              " 3,\n",
              " 3,\n",
              " 3,\n",
              " 3,\n",
              " 3,\n",
              " 3,\n",
              " 3,\n",
              " 3,\n",
              " 3,\n",
              " 4,\n",
              " 4,\n",
              " 4,\n",
              " 4,\n",
              " 4,\n",
              " 4,\n",
              " 4,\n",
              " 4,\n",
              " 4,\n",
              " 4,\n",
              " 4,\n",
              " 4,\n",
              " 4,\n",
              " 4,\n",
              " 4,\n",
              " 4,\n",
              " 4,\n",
              " 4,\n",
              " 4,\n",
              " 4,\n",
              " 4,\n",
              " 4,\n",
              " 4,\n",
              " 4,\n",
              " 4,\n",
              " 4,\n",
              " 4,\n",
              " 4,\n",
              " 4,\n",
              " 4,\n",
              " 4,\n",
              " 4,\n",
              " 4,\n",
              " 4,\n",
              " 4,\n",
              " 4,\n",
              " 4,\n",
              " 4,\n",
              " 4,\n",
              " 4,\n",
              " 4,\n",
              " 4,\n",
              " 4,\n",
              " 4,\n",
              " 4,\n",
              " 4,\n",
              " 4,\n",
              " 4,\n",
              " 4,\n",
              " 4,\n",
              " 4,\n",
              " 4,\n",
              " 4,\n",
              " 4,\n",
              " 4,\n",
              " 4,\n",
              " 4,\n",
              " 4,\n",
              " 4,\n",
              " 4]"
            ]
          },
          "execution_count": 39,
          "metadata": {},
          "output_type": "execute_result"
        }
      ],
      "source": [
        "labels"
      ]
    },
    {
      "cell_type": "code",
      "execution_count": null,
      "metadata": {
        "id": "HZc_UTbVLqpQ",
        "outputId": "c872da09-838e-413e-cade-6b0a8cec2225"
      },
      "outputs": [
        {
          "name": "stdout",
          "output_type": "stream",
          "text": [
            "(20, 51)\n",
            "(300, 20, 51)\n",
            "(300,)\n"
          ]
        }
      ],
      "source": [
        "print(np.array(window).shape)\n",
        "print(np.array(sequences).shape)\n",
        "print(np.array(labels).shape)"
      ]
    },
    {
      "cell_type": "code",
      "execution_count": null,
      "metadata": {
        "id": "t6ZKCxaTLqpQ"
      },
      "outputs": [],
      "source": [
        "X = np.array(sequences)\n",
        "y = np.array(labels)"
      ]
    },
    {
      "cell_type": "code",
      "execution_count": null,
      "metadata": {
        "id": "vCn9-yIALqpQ",
        "outputId": "1e4bc71a-bf0b-438b-801a-6671f81bfb1e"
      },
      "outputs": [
        {
          "data": {
            "text/plain": [
              "(300, 20, 51)"
            ]
          },
          "execution_count": 43,
          "metadata": {},
          "output_type": "execute_result"
        }
      ],
      "source": [
        "X.shape"
      ]
    },
    {
      "cell_type": "code",
      "execution_count": null,
      "metadata": {
        "id": "yn9nqX1tLqpR",
        "outputId": "c3ea8b72-8a88-44c8-cae1-b6605495550c"
      },
      "outputs": [
        {
          "data": {
            "text/plain": [
              "array([0, 0, 0, 0, 0, 0, 0, 0, 0, 0, 0, 0, 0, 0, 0, 0, 0, 0, 0, 0, 0, 0,\n",
              "       0, 0, 0, 0, 0, 0, 0, 0, 0, 0, 0, 0, 0, 0, 0, 0, 0, 0, 0, 0, 0, 0,\n",
              "       0, 0, 0, 0, 0, 0, 0, 0, 0, 0, 0, 0, 0, 0, 0, 0, 1, 1, 1, 1, 1, 1,\n",
              "       1, 1, 1, 1, 1, 1, 1, 1, 1, 1, 1, 1, 1, 1, 1, 1, 1, 1, 1, 1, 1, 1,\n",
              "       1, 1, 1, 1, 1, 1, 1, 1, 1, 1, 1, 1, 1, 1, 1, 1, 1, 1, 1, 1, 1, 1,\n",
              "       1, 1, 1, 1, 1, 1, 1, 1, 1, 1, 2, 2, 2, 2, 2, 2, 2, 2, 2, 2, 2, 2,\n",
              "       2, 2, 2, 2, 2, 2, 2, 2, 2, 2, 2, 2, 2, 2, 2, 2, 2, 2, 2, 2, 2, 2,\n",
              "       2, 2, 2, 2, 2, 2, 2, 2, 2, 2, 2, 2, 2, 2, 2, 2, 2, 2, 2, 2, 2, 2,\n",
              "       2, 2, 2, 2, 3, 3, 3, 3, 3, 3, 3, 3, 3, 3, 3, 3, 3, 3, 3, 3, 3, 3,\n",
              "       3, 3, 3, 3, 3, 3, 3, 3, 3, 3, 3, 3, 3, 3, 3, 3, 3, 3, 3, 3, 3, 3,\n",
              "       3, 3, 3, 3, 3, 3, 3, 3, 3, 3, 3, 3, 3, 3, 3, 3, 3, 3, 3, 3, 4, 4,\n",
              "       4, 4, 4, 4, 4, 4, 4, 4, 4, 4, 4, 4, 4, 4, 4, 4, 4, 4, 4, 4, 4, 4,\n",
              "       4, 4, 4, 4, 4, 4, 4, 4, 4, 4, 4, 4, 4, 4, 4, 4, 4, 4, 4, 4, 4, 4,\n",
              "       4, 4, 4, 4, 4, 4, 4, 4, 4, 4, 4, 4, 4, 4])"
            ]
          },
          "execution_count": 41,
          "metadata": {},
          "output_type": "execute_result"
        }
      ],
      "source": [
        "y"
      ]
    },
    {
      "cell_type": "code",
      "execution_count": null,
      "metadata": {
        "id": "exI98nXPLqpR"
      },
      "outputs": [],
      "source": [
        "X_train, X_test, y_train, y_test = train_test_split(X, y, test_size=0.15, random_state=22)"
      ]
    },
    {
      "cell_type": "code",
      "execution_count": null,
      "metadata": {
        "id": "kr4FTdkCLqpR",
        "outputId": "3e31ee07-bcb0-4313-c929-af569513901f"
      },
      "outputs": [
        {
          "data": {
            "text/plain": [
              "((255, 20, 51), (45, 20, 51))"
            ]
          },
          "execution_count": 46,
          "metadata": {},
          "output_type": "execute_result"
        }
      ],
      "source": [
        "X_train.shape, X_test.shape"
      ]
    },
    {
      "cell_type": "markdown",
      "metadata": {
        "id": "6zlGDU_2LqpS"
      },
      "source": [
        "# Create deep learning model:"
      ]
    },
    {
      "cell_type": "code",
      "execution_count": null,
      "metadata": {
        "id": "lpmH6gDjLqpS"
      },
      "outputs": [],
      "source": [
        "tensorboard=tf.keras.callbacks.TensorBoard(log_dir='logs')"
      ]
    },
    {
      "cell_type": "code",
      "execution_count": null,
      "metadata": {
        "id": "SL49ogzaLqpS"
      },
      "outputs": [],
      "source": [
        "model = tf.keras.models.Sequential([\n",
        "                    tf.keras.layers.LSTM(64,activation='relu', return_sequences=True),\n",
        "                    tf.keras.layers.LSTM(128,activation='relu', return_sequences=True),\n",
        "                    tf.keras.layers.LSTM(64,activation='relu', return_sequences=False),\n",
        "                    tf.keras.layers.Dense(64,activation='relu'),\n",
        "                    tf.keras.layers.Dense(32,activation='relu'),\n",
        "                    tf.keras.layers.Dense(actions.shape[0],activation='softmax')\n",
        "                    ])"
      ]
    },
    {
      "cell_type": "code",
      "execution_count": null,
      "metadata": {
        "id": "OrFvazxMLqpT"
      },
      "outputs": [],
      "source": [
        "model.compile(optimizer = tf.keras.optimizers.Adam(), \n",
        "              loss = 'sparse_categorical_crossentropy', \n",
        "              metrics='accuracy' )"
      ]
    },
    {
      "cell_type": "code",
      "execution_count": null,
      "metadata": {
        "id": "MR4ZjIXZLqpV",
        "outputId": "280b7cfc-c190-4a69-8818-9c726ae4845c"
      },
      "outputs": [
        {
          "name": "stdout",
          "output_type": "stream",
          "text": [
            "Epoch 1/50\n",
            "8/8 [==============================] - 5s 48ms/step - loss: 1.6038 - accuracy: 0.2588\n",
            "Epoch 2/50\n",
            "8/8 [==============================] - 0s 46ms/step - loss: 1.5495 - accuracy: 0.3451\n",
            "Epoch 3/50\n",
            "8/8 [==============================] - 0s 59ms/step - loss: 1.4383 - accuracy: 0.3490\n",
            "Epoch 4/50\n",
            "8/8 [==============================] - 0s 49ms/step - loss: 1.2977 - accuracy: 0.4039\n",
            "Epoch 5/50\n",
            "8/8 [==============================] - 0s 48ms/step - loss: 1.2088 - accuracy: 0.5412\n",
            "Epoch 6/50\n",
            "8/8 [==============================] - 0s 54ms/step - loss: 1.1799 - accuracy: 0.4706\n",
            "Epoch 7/50\n",
            "8/8 [==============================] - 0s 56ms/step - loss: 1.1002 - accuracy: 0.6510\n",
            "Epoch 8/50\n",
            "8/8 [==============================] - 0s 54ms/step - loss: 0.8306 - accuracy: 0.6392\n",
            "Epoch 9/50\n",
            "8/8 [==============================] - 0s 49ms/step - loss: 0.9040 - accuracy: 0.6353\n",
            "Epoch 10/50\n",
            "8/8 [==============================] - 0s 53ms/step - loss: 0.7681 - accuracy: 0.6824\n",
            "Epoch 11/50\n",
            "8/8 [==============================] - 0s 55ms/step - loss: 0.7592 - accuracy: 0.6941\n",
            "Epoch 12/50\n",
            "8/8 [==============================] - 0s 51ms/step - loss: 0.6912 - accuracy: 0.7294\n",
            "Epoch 13/50\n",
            "8/8 [==============================] - 0s 60ms/step - loss: 0.5538 - accuracy: 0.8157\n",
            "Epoch 14/50\n",
            "8/8 [==============================] - 0s 55ms/step - loss: 0.4552 - accuracy: 0.8353\n",
            "Epoch 15/50\n",
            "8/8 [==============================] - 0s 55ms/step - loss: 0.4467 - accuracy: 0.8078\n",
            "Epoch 16/50\n",
            "8/8 [==============================] - 1s 65ms/step - loss: 0.4168 - accuracy: 0.8510\n",
            "Epoch 17/50\n",
            "8/8 [==============================] - 1s 64ms/step - loss: 0.7028 - accuracy: 0.7333\n",
            "Epoch 18/50\n",
            "8/8 [==============================] - 0s 55ms/step - loss: 0.7554 - accuracy: 0.7216\n",
            "Epoch 19/50\n",
            "8/8 [==============================] - 0s 52ms/step - loss: 0.6943 - accuracy: 0.7333\n",
            "Epoch 20/50\n",
            "8/8 [==============================] - 0s 53ms/step - loss: 0.4877 - accuracy: 0.7725\n",
            "Epoch 21/50\n",
            "8/8 [==============================] - 0s 55ms/step - loss: 0.3643 - accuracy: 0.8941\n",
            "Epoch 22/50\n",
            "8/8 [==============================] - 0s 53ms/step - loss: 0.3085 - accuracy: 0.9098\n",
            "Epoch 23/50\n",
            "8/8 [==============================] - 0s 48ms/step - loss: 0.4553 - accuracy: 0.8549\n",
            "Epoch 24/50\n",
            "8/8 [==============================] - 0s 57ms/step - loss: 0.3161 - accuracy: 0.9020\n",
            "Epoch 25/50\n",
            "8/8 [==============================] - 0s 59ms/step - loss: 0.2710 - accuracy: 0.9020\n",
            "Epoch 26/50\n",
            "8/8 [==============================] - 0s 56ms/step - loss: 0.2134 - accuracy: 0.9451\n",
            "Epoch 27/50\n",
            "8/8 [==============================] - 0s 46ms/step - loss: 0.2415 - accuracy: 0.9255\n",
            "Epoch 28/50\n",
            "8/8 [==============================] - 0s 61ms/step - loss: 0.1865 - accuracy: 0.9569\n",
            "Epoch 29/50\n",
            "8/8 [==============================] - 0s 54ms/step - loss: 0.0824 - accuracy: 0.9765\n",
            "Epoch 30/50\n",
            "8/8 [==============================] - 0s 60ms/step - loss: 0.0677 - accuracy: 0.9765\n",
            "Epoch 31/50\n",
            "8/8 [==============================] - 0s 51ms/step - loss: 0.1264 - accuracy: 0.9490\n",
            "Epoch 32/50\n",
            "8/8 [==============================] - 0s 48ms/step - loss: 0.1765 - accuracy: 0.9216\n",
            "Epoch 33/50\n",
            "8/8 [==============================] - 0s 53ms/step - loss: 0.1787 - accuracy: 0.9412\n",
            "Epoch 34/50\n",
            "8/8 [==============================] - 0s 51ms/step - loss: 0.0640 - accuracy: 0.9843\n",
            "Epoch 35/50\n",
            "8/8 [==============================] - 0s 57ms/step - loss: 0.0510 - accuracy: 0.9843\n",
            "Epoch 36/50\n",
            "8/8 [==============================] - 0s 53ms/step - loss: 0.1211 - accuracy: 0.9529\n",
            "Epoch 37/50\n",
            "8/8 [==============================] - 0s 54ms/step - loss: 0.5386 - accuracy: 0.8275\n",
            "Epoch 38/50\n",
            "8/8 [==============================] - 1s 71ms/step - loss: 0.4128 - accuracy: 0.9059\n",
            "Epoch 39/50\n",
            "8/8 [==============================] - 0s 56ms/step - loss: 0.2567 - accuracy: 0.9294\n",
            "Epoch 40/50\n",
            "8/8 [==============================] - 0s 54ms/step - loss: 0.2327 - accuracy: 0.9176\n",
            "Epoch 41/50\n",
            "8/8 [==============================] - 0s 51ms/step - loss: 0.1941 - accuracy: 0.9490 0s - loss: 0.1912 - accuracy: 0.\n",
            "Epoch 42/50\n",
            "8/8 [==============================] - 0s 58ms/step - loss: 0.1278 - accuracy: 0.9569\n",
            "Epoch 43/50\n",
            "8/8 [==============================] - 0s 59ms/step - loss: 0.0678 - accuracy: 0.9882\n",
            "Epoch 44/50\n",
            "8/8 [==============================] - 0s 55ms/step - loss: 0.0577 - accuracy: 0.9804\n",
            "Epoch 45/50\n",
            "8/8 [==============================] - 0s 47ms/step - loss: 0.0640 - accuracy: 0.9804\n",
            "Epoch 46/50\n",
            "8/8 [==============================] - 0s 53ms/step - loss: 0.0782 - accuracy: 0.9686\n",
            "Epoch 47/50\n",
            "8/8 [==============================] - 0s 58ms/step - loss: 0.2071 - accuracy: 0.9137\n",
            "Epoch 48/50\n",
            "8/8 [==============================] - 0s 56ms/step - loss: 0.1424 - accuracy: 0.9490 0s - loss: 0.1491 - accuracy: 0.94\n",
            "Epoch 49/50\n",
            "8/8 [==============================] - 0s 56ms/step - loss: 0.0720 - accuracy: 0.9882\n",
            "Epoch 50/50\n",
            "8/8 [==============================] - 0s 57ms/step - loss: 0.0279 - accuracy: 0.9882\n"
          ]
        },
        {
          "data": {
            "text/plain": [
              "<keras.callbacks.History at 0x1a4a5c27b80>"
            ]
          },
          "execution_count": 60,
          "metadata": {},
          "output_type": "execute_result"
        }
      ],
      "source": [
        "model.fit(X_train,y_train,epochs=50,callbacks=tensorboard)"
      ]
    },
    {
      "cell_type": "code",
      "execution_count": null,
      "metadata": {
        "id": "eJ0nL52RLqpZ",
        "outputId": "44060318-5661-482d-907f-f2e3393492e5"
      },
      "outputs": [
        {
          "name": "stdout",
          "output_type": "stream",
          "text": [
            "2/2 [==============================] - 1s 13ms/step - loss: 0.0582 - accuracy: 0.9778\n"
          ]
        },
        {
          "data": {
            "text/plain": [
              "[0.0581539086997509, 0.9777777791023254]"
            ]
          },
          "execution_count": 61,
          "metadata": {},
          "output_type": "execute_result"
        }
      ],
      "source": [
        "model.evaluate(X_test,y_test)"
      ]
    },
    {
      "cell_type": "code",
      "execution_count": null,
      "metadata": {
        "id": "o9cNBbXcLqpa",
        "outputId": "7c141940-b3e7-4965-8717-ec00a7d85728"
      },
      "outputs": [
        {
          "data": {
            "text/plain": [
              "array([1, 0, 2, 3, 0, 4, 4, 3, 2, 2, 2, 1, 1, 4, 4, 1, 0, 3, 3, 3, 0, 3,\n",
              "       4, 4, 3, 0, 0, 4, 2, 4, 0, 4, 2, 3, 4, 2, 1, 3, 3, 1, 4, 1, 0, 2,\n",
              "       2], dtype=int64)"
            ]
          },
          "execution_count": 62,
          "metadata": {},
          "output_type": "execute_result"
        }
      ],
      "source": [
        "ypred = np.argmax(model.predict(X_test),axis=1)\n",
        "ypred"
      ]
    },
    {
      "cell_type": "code",
      "execution_count": null,
      "metadata": {
        "id": "ehIutcanLqpa",
        "outputId": "341a029f-cc4b-424c-9e34-26aafbb4dab4"
      },
      "outputs": [
        {
          "data": {
            "text/plain": [
              "array([1, 0, 2, 3, 0, 4, 4, 4, 2, 2, 2, 1, 1, 4, 4, 1, 0, 3, 3, 3, 0, 3,\n",
              "       4, 4, 3, 0, 0, 4, 2, 4, 0, 4, 2, 3, 4, 2, 1, 3, 3, 1, 4, 1, 0, 2,\n",
              "       2])"
            ]
          },
          "execution_count": 63,
          "metadata": {},
          "output_type": "execute_result"
        }
      ],
      "source": [
        "y_test"
      ]
    },
    {
      "cell_type": "code",
      "execution_count": null,
      "metadata": {
        "id": "ea6cN_3OLqpc"
      },
      "outputs": [],
      "source": [
        "model.save('C:\\\\Users\\\\david\\\\Google Drive\\\\Colab Notebooks\\\\Computer Vision\\\\gameaction.h5')"
      ]
    },
    {
      "cell_type": "code",
      "execution_count": null,
      "metadata": {
        "id": "Q85MrOPqLqpd"
      },
      "outputs": [],
      "source": [
        "# model.load_weights('C:\\\\Users\\\\david\\\\Google Drive\\\\Colab Notebooks\\\\Computer Vision\\\\action.h5')   "
      ]
    }
  ],
  "metadata": {
    "kernelspec": {
      "display_name": "Python 3 (ipykernel)",
      "language": "python",
      "name": "python3"
    },
    "language_info": {
      "codemirror_mode": {
        "name": "ipython",
        "version": 3
      },
      "file_extension": ".py",
      "mimetype": "text/x-python",
      "name": "python",
      "nbconvert_exporter": "python",
      "pygments_lexer": "ipython3",
      "version": "3.9.7"
    },
    "colab": {
      "name": "body move detection for game(nich).ipynb",
      "provenance": [],
      "include_colab_link": true
    }
  },
  "nbformat": 4,
  "nbformat_minor": 0
}