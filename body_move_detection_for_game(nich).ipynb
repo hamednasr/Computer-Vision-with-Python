{
  "cells": [
    {
      "cell_type": "markdown",
      "metadata": {
        "id": "view-in-github",
        "colab_type": "text"
      },
      "source": [
        "<a href=\"https://colab.research.google.com/github/hamednasr/Computer-Vision-with-Python/blob/main/body_move_detection_for_game(nich).ipynb\" target=\"_parent\"><img src=\"https://colab.research.google.com/assets/colab-badge.svg\" alt=\"Open In Colab\"/></a>"
      ]
    },
    {
      "cell_type": "code",
      "execution_count": null,
      "metadata": {
        "id": "g7zuyDzgD3HY"
      },
      "outputs": [],
      "source": [
        "import tensorflow as tf\n",
        "import numpy as np\n",
        "from matplotlib import pyplot as plt\n",
        "import cv2\n",
        "import os\n",
        "import time"
      ]
    },
    {
      "cell_type": "code",
      "execution_count": null,
      "metadata": {
        "id": "LXGivC7KD3He"
      },
      "outputs": [],
      "source": [
        "interpreter = tf.lite.Interpreter(model_path='movenets/lite-model_movenet_singlepose_lightning_3.tflite')\n",
        "interpreter.allocate_tensors()\n",
        "input_size = 192\n",
        "# input_size = 256"
      ]
    },
    {
      "cell_type": "code",
      "execution_count": null,
      "metadata": {
        "id": "gQofAOXvD3Hf"
      },
      "outputs": [],
      "source": [
        "EDGES = {\n",
        "    (0, 1): 'm',\n",
        "    (0, 2): 'c',\n",
        "    (1, 3): 'm',\n",
        "    (2, 4): 'c',\n",
        "    (0, 5): 'm',\n",
        "    (0, 6): 'c',\n",
        "    (5, 7): 'm',\n",
        "    (7, 9): 'm',\n",
        "    (6, 8): 'c',\n",
        "    (8, 10): 'c',\n",
        "    (5, 6): 'y',\n",
        "    (5, 11): 'm',\n",
        "    (6, 12): 'c',\n",
        "    (11, 12): 'y',\n",
        "    (11, 13): 'm',\n",
        "    (13, 15): 'm',\n",
        "    (12, 14): 'c',\n",
        "    (14, 16): 'c'\n",
        "}"
      ]
    },
    {
      "cell_type": "code",
      "execution_count": null,
      "metadata": {
        "id": "Z67xKqIbD3Hg"
      },
      "outputs": [],
      "source": [
        "def draw_keypoints(frame, keypoints, confidence_threshold):\n",
        "    y, x, c = frame.shape\n",
        "    shaped = np.squeeze(np.multiply(keypoints, [y,x,1]))\n",
        "    \n",
        "    for kp in shaped:\n",
        "        ky, kx, kp_conf = kp\n",
        "        if kp_conf > confidence_threshold:\n",
        "            cv2.circle(frame, (int(kx), int(ky)), 4, (0,255,0), -1) "
      ]
    },
    {
      "cell_type": "code",
      "execution_count": null,
      "metadata": {
        "id": "kmSguDM7D3Hh"
      },
      "outputs": [],
      "source": [
        "def draw_connections(frame, keypoints, edges, confidence_threshold):\n",
        "    y, x, c = frame.shape\n",
        "    shaped = np.squeeze(np.multiply(keypoints, [y,x,1]))\n",
        "    \n",
        "    for edge, color in edges.items():\n",
        "        p1, p2 = edge\n",
        "        y1, x1, c1 = shaped[p1]\n",
        "        y2, x2, c2 = shaped[p2]\n",
        "        \n",
        "        if (c1 > confidence_threshold) & (c2 > confidence_threshold):      \n",
        "            cv2.line(frame, (int(x1), int(y1)), (int(x2), int(y2)), (0,0,255), 2)"
      ]
    },
    {
      "cell_type": "code",
      "execution_count": null,
      "metadata": {
        "id": "DQxnUwlwD3Hh"
      },
      "outputs": [],
      "source": [
        "def movenet_keypoints(image, input_size=192):\n",
        "    \n",
        "    # Reshape image\n",
        "    img = tf.image.resize_with_pad(np.expand_dims(image, axis=0), input_size,input_size)\n",
        "    input_image = tf.cast(img, dtype=tf.float32)\n",
        "\n",
        "    # Setup input and output \n",
        "    input_details = interpreter.get_input_details()\n",
        "    output_details = interpreter.get_output_details()\n",
        "\n",
        "    # Make predictions \n",
        "    interpreter.set_tensor(input_details[0]['index'], np.array(input_image))\n",
        "    interpreter.invoke()\n",
        "    keypoints_with_scores = interpreter.get_tensor(output_details[0]['index'])\n",
        "    \n",
        "    \n",
        "    return keypoints_with_scores   "
      ]
    },
    {
      "cell_type": "markdown",
      "metadata": {
        "id": "4nW5Vd_5D3Hi"
      },
      "source": [
        "# draw keypoints on cam video:"
      ]
    },
    {
      "cell_type": "code",
      "execution_count": null,
      "metadata": {
        "id": "pBUxvat8D3Hl"
      },
      "outputs": [],
      "source": [
        "cap = cv2.VideoCapture(0)\n",
        "while cap.isOpened():\n",
        "    ret, frame = cap.read()\n",
        "    \n",
        "    # Reshape image\n",
        "    \n",
        "    img = tf.image.resize_with_pad(np.expand_dims(frame, axis=0), input_size,input_size)\n",
        "    input_image = tf.cast(img, dtype=tf.float32)\n",
        "    \n",
        "    # Setup input and output \n",
        "    input_details = interpreter.get_input_details()\n",
        "    output_details = interpreter.get_output_details()\n",
        "    \n",
        "    # Make predictions \n",
        "    interpreter.set_tensor(input_details[0]['index'], np.array(input_image))\n",
        "    interpreter.invoke()\n",
        "    keypoints_with_scores = interpreter.get_tensor(output_details[0]['index'])\n",
        "#     print(np.squeeze(keypoints_with_scores).flatten())\n",
        "    # Rendering \n",
        "    draw_connections(frame, keypoints_with_scores, EDGES, 0.2)\n",
        "    draw_keypoints(frame, keypoints_with_scores, 0.2)\n",
        "    \n",
        "    cv2.imshow('MoveNet Lightning', frame)\n",
        "    \n",
        "    if cv2.waitKey(10) & 0xFF==ord('q'):\n",
        "        break\n",
        "        \n",
        "cap.release()\n",
        "cv2.destroyAllWindows()"
      ]
    },
    {
      "cell_type": "markdown",
      "metadata": {
        "id": "qmh1O1Z8D3Ho"
      },
      "source": [
        "# record data:"
      ]
    },
    {
      "cell_type": "markdown",
      "metadata": {
        "id": "q2KNa2UgD3Hp"
      },
      "source": [
        "## jump:"
      ]
    },
    {
      "cell_type": "code",
      "execution_count": null,
      "metadata": {
        "id": "f6IqORxID3Hq"
      },
      "outputs": [],
      "source": [
        "data_path = 'C:\\\\Users\\\\david\\\\Google Drive\\\\Colab Notebooks\\\\Computer Vision\\\\bodymove_data'\n",
        "no_videos = 60\n",
        "sequences_length = 20"
      ]
    },
    {
      "cell_type": "code",
      "execution_count": null,
      "metadata": {
        "id": "v8enMejwD3Hq"
      },
      "outputs": [],
      "source": [
        "for video in range(no_videos):\n",
        "    try:\n",
        "        os.makedirs(os.path.join(data_path,'jump',str(video)))  \n",
        "    except:\n",
        "        pass        "
      ]
    },
    {
      "cell_type": "code",
      "execution_count": null,
      "metadata": {
        "id": "rqAaAJ6eD3Hr"
      },
      "outputs": [],
      "source": [
        "cap = cv2.VideoCapture(0)\n",
        "    \n",
        "for video in range(no_videos):\n",
        "    for frame_num in range(sequences_length):\n",
        "\n",
        "        ret, frame = cap.read()\n",
        "\n",
        "        keypoints_with_scores = movenet_keypoints(frame, input_size=192)\n",
        "        draw_keypoints(frame, keypoints_with_scores, 0.2)\n",
        "        draw_connections(frame, keypoints_with_scores, EDGES, 0.2)\n",
        "\n",
        "        if frame_num==0:\n",
        "            cv2.putText(frame,'COLLECTION START for JUMP',(150,200),\n",
        "                        cv2.FONT_HERSHEY_COMPLEX,1,(0,0,255),4,cv2.LINE_AA)\n",
        "            cv2.putText(frame,f'collecting frames for jump video numer {video}',(15,12),\n",
        "                        cv2.FONT_HERSHEY_COMPLEX,.5,(0,255,0),1,cv2.LINE_AA)\n",
        "            cv2.imshow('Webcam Feed', frame)\n",
        "            cv2.waitKey(2000)\n",
        "\n",
        "        else:\n",
        "            cv2.putText(frame,f'collecting frames for jump video numer {video}',(15,12),\n",
        "            cv2.FONT_HERSHEY_COMPLEX,0.5,(0,255,0),1,cv2.LINE_AA)\n",
        "\n",
        "            cv2.imshow('Webcam Feed', frame)\n",
        "            \n",
        "            \n",
        "        keypoints = np.squeeze(keypoints_with_scores).flatten()\n",
        "\n",
        "        npy_path = os.path.join(data_path,'jump',str(video),str(frame_num))\n",
        "        np.save(npy_path,keypoints)\n",
        "\n",
        "        if cv2.waitKey(10) & 0xFF == ord('q'):\n",
        "            break\n",
        "\n",
        "cap.release()\n",
        "cv2.destroyAllWindows()"
      ]
    },
    {
      "cell_type": "markdown",
      "metadata": {
        "id": "5XxOeEHQD3Hr"
      },
      "source": [
        "## crouch:"
      ]
    },
    {
      "cell_type": "code",
      "execution_count": null,
      "metadata": {
        "id": "qzTggzmbD3Hs"
      },
      "outputs": [],
      "source": [
        "data_path = 'C:\\\\Users\\\\david\\\\Google Drive\\\\Colab Notebooks\\\\Computer Vision\\\\bodymove_data'\n",
        "no_videos = 60\n",
        "sequences_length = 20"
      ]
    },
    {
      "cell_type": "code",
      "execution_count": null,
      "metadata": {
        "id": "qtbmn0pFD3Hs"
      },
      "outputs": [],
      "source": [
        "for video in range(no_videos):\n",
        "    try:\n",
        "        os.makedirs(os.path.join(data_path,'crouch',str(video)))  \n",
        "    except:\n",
        "        pass        "
      ]
    },
    {
      "cell_type": "code",
      "execution_count": null,
      "metadata": {
        "id": "Fm4tJA7ID3Ht"
      },
      "outputs": [],
      "source": [
        "cap = cv2.VideoCapture(0)\n",
        "    \n",
        "for video in range(no_videos):\n",
        "    for frame_num in range(sequences_length):\n",
        "\n",
        "        ret, frame = cap.read()\n",
        "\n",
        "        keypoints_with_scores = movenet_keypoints(frame, input_size=192)\n",
        "        draw_keypoints(frame, keypoints_with_scores, 0.2)\n",
        "        draw_connections(frame, keypoints_with_scores, EDGES, 0.2)\n",
        "\n",
        "        if frame_num==0:\n",
        "            cv2.putText(frame,'COLLECTION START for CROUCH',(150,200),\n",
        "                        cv2.FONT_HERSHEY_COMPLEX,1,(0,0,255),4,cv2.LINE_AA)\n",
        "            cv2.putText(frame,f'collecting frames for crouch video numer {video}',(15,12),\n",
        "                        cv2.FONT_HERSHEY_COMPLEX,.5,(0,255,0),1,cv2.LINE_AA)\n",
        "            cv2.imshow('Webcam Feed', frame)\n",
        "            cv2.waitKey(2000)\n",
        "\n",
        "        else:\n",
        "            cv2.putText(frame,f'collecting frames for crouch video numer {video}',(15,12),\n",
        "            cv2.FONT_HERSHEY_COMPLEX,0.5,(0,255,0),1,cv2.LINE_AA)\n",
        "\n",
        "            cv2.imshow('Webcam Feed', frame)\n",
        "            \n",
        "            \n",
        "        keypoints = np.squeeze(keypoints_with_scores).flatten()\n",
        "\n",
        "        npy_path = os.path.join(data_path,'crouch',str(video),str(frame_num))\n",
        "        np.save(npy_path,keypoints)\n",
        "\n",
        "        if cv2.waitKey(10) & 0xFF == ord('q'):\n",
        "            break\n",
        "\n",
        "cap.release()\n",
        "cv2.destroyAllWindows()"
      ]
    },
    {
      "cell_type": "markdown",
      "metadata": {
        "id": "VVSfvErTD3Ht"
      },
      "source": [
        "## right jump:"
      ]
    },
    {
      "cell_type": "code",
      "execution_count": null,
      "metadata": {
        "id": "DmNtDJ4YD3Hu"
      },
      "outputs": [],
      "source": [
        "data_path = 'C:\\\\Users\\\\david\\\\Google Drive\\\\Colab Notebooks\\\\Computer Vision\\\\bodymove_data'\n",
        "no_videos = 60\n",
        "sequences_length = 20"
      ]
    },
    {
      "cell_type": "code",
      "execution_count": null,
      "metadata": {
        "id": "hk4KHUJaD3Hu"
      },
      "outputs": [],
      "source": [
        "for video in range(no_videos):\n",
        "    try:\n",
        "        os.makedirs(os.path.join(data_path,'right_jump',str(video)))  \n",
        "    except:\n",
        "        pass        "
      ]
    },
    {
      "cell_type": "code",
      "execution_count": null,
      "metadata": {
        "id": "JYFs0qWHD3Hv"
      },
      "outputs": [],
      "source": [
        "cap = cv2.VideoCapture(0)\n",
        "    \n",
        "for video in range(no_videos):\n",
        "    for frame_num in range(sequences_length):\n",
        "\n",
        "        ret, frame = cap.read()\n",
        "\n",
        "        keypoints_with_scores = movenet_keypoints(frame, input_size=192)\n",
        "        draw_keypoints(frame, keypoints_with_scores, 0.2)\n",
        "        draw_connections(frame, keypoints_with_scores, EDGES, 0.2)\n",
        "\n",
        "        if frame_num==0:\n",
        "            cv2.putText(frame,'COLLECTION START for RIGHT_JUMP',(150,200),\n",
        "                        cv2.FONT_HERSHEY_COMPLEX,1,(0,0,255),4,cv2.LINE_AA)\n",
        "            cv2.putText(frame,f'collecting frames for right_jump video numer {video}',(15,12),\n",
        "                        cv2.FONT_HERSHEY_COMPLEX,.5,(0,255,0),1,cv2.LINE_AA)\n",
        "            cv2.imshow('Webcam Feed', frame)\n",
        "            cv2.waitKey(2000)\n",
        "\n",
        "        else:\n",
        "            cv2.putText(frame,f'collecting frames for right_jump video numer {video}',(15,12),\n",
        "            cv2.FONT_HERSHEY_COMPLEX,0.5,(0,255,0),1,cv2.LINE_AA)\n",
        "\n",
        "            cv2.imshow('Webcam Feed', frame)\n",
        "            \n",
        "            \n",
        "        keypoints = np.squeeze(keypoints_with_scores).flatten()\n",
        "\n",
        "        npy_path = os.path.join(data_path,'right_jump',str(video),str(frame_num))\n",
        "        np.save(npy_path,keypoints)\n",
        "\n",
        "        if cv2.waitKey(10) & 0xFF == ord('q'):\n",
        "            break\n",
        "\n",
        "cap.release()\n",
        "cv2.destroyAllWindows()"
      ]
    },
    {
      "cell_type": "markdown",
      "metadata": {
        "id": "mZNhOsdJD3Hv"
      },
      "source": [
        "## left jump:"
      ]
    },
    {
      "cell_type": "code",
      "execution_count": null,
      "metadata": {
        "id": "4VZ96KBsD3Hw"
      },
      "outputs": [],
      "source": [
        "data_path = 'C:\\\\Users\\\\david\\\\Google Drive\\\\Colab Notebooks\\\\Computer Vision\\\\bodymove_data'\n",
        "no_videos = 60\n",
        "sequences_length = 20"
      ]
    },
    {
      "cell_type": "code",
      "execution_count": null,
      "metadata": {
        "id": "tSGWQt4gD3Hw"
      },
      "outputs": [],
      "source": [
        "for video in range(no_videos):\n",
        "    try:\n",
        "        os.makedirs(os.path.join(data_path,'left_jump',str(video)))  \n",
        "    except:\n",
        "        pass        "
      ]
    },
    {
      "cell_type": "code",
      "execution_count": null,
      "metadata": {
        "id": "dAV0lRK5D3Hw"
      },
      "outputs": [],
      "source": [
        "cap = cv2.VideoCapture(0)\n",
        "    \n",
        "for video in range(no_videos):\n",
        "    for frame_num in range(sequences_length):\n",
        "\n",
        "        ret, frame = cap.read()\n",
        "\n",
        "        keypoints_with_scores = movenet_keypoints(frame, input_size=192)\n",
        "        draw_keypoints(frame, keypoints_with_scores, 0.2)\n",
        "        draw_connections(frame, keypoints_with_scores, EDGES, 0.2)\n",
        "\n",
        "        if frame_num==0:\n",
        "            cv2.putText(frame,'COLLECTION START for LEFT_JUMP',(150,200),\n",
        "                        cv2.FONT_HERSHEY_COMPLEX,1,(0,0,255),4,cv2.LINE_AA)\n",
        "            cv2.putText(frame,f'collecting frames for left_jump video numer {video}',(15,12),\n",
        "                        cv2.FONT_HERSHEY_COMPLEX,.5,(0,255,0),1,cv2.LINE_AA)\n",
        "            cv2.imshow('Webcam Feed', frame)\n",
        "            cv2.waitKey(2000)\n",
        "\n",
        "        else:\n",
        "            cv2.putText(frame,f'collecting frames for left_jump video numer {video}',(15,12),\n",
        "            cv2.FONT_HERSHEY_COMPLEX,0.5,(0,255,0),1,cv2.LINE_AA)\n",
        "\n",
        "            cv2.imshow('Webcam Feed', frame)\n",
        "            \n",
        "            \n",
        "        keypoints = np.squeeze(keypoints_with_scores).flatten()\n",
        "\n",
        "        npy_path = os.path.join(data_path,'left_jump',str(video),str(frame_num))\n",
        "        np.save(npy_path,keypoints)\n",
        "\n",
        "        if cv2.waitKey(10) & 0xFF == ord('q'):\n",
        "            break\n",
        "\n",
        "cap.release()\n",
        "cv2.destroyAllWindows()"
      ]
    },
    {
      "cell_type": "markdown",
      "metadata": {
        "id": "jrGKxlJ0D3Hx"
      },
      "source": [
        "## run:"
      ]
    },
    {
      "cell_type": "code",
      "execution_count": null,
      "metadata": {
        "id": "G2VB9bU5D3Hx"
      },
      "outputs": [],
      "source": [
        "data_path = 'C:\\\\Users\\\\david\\\\Google Drive\\\\Colab Notebooks\\\\Computer Vision\\\\bodymove_data'\n",
        "no_videos = 60\n",
        "sequences_length = 20"
      ]
    },
    {
      "cell_type": "code",
      "execution_count": null,
      "metadata": {
        "id": "CKXQtDHSD3Hy"
      },
      "outputs": [],
      "source": [
        "for video in range(no_videos):\n",
        "    try:\n",
        "        os.makedirs(os.path.join(data_path,'run',str(video)))  \n",
        "    except:\n",
        "        pass        "
      ]
    },
    {
      "cell_type": "code",
      "execution_count": null,
      "metadata": {
        "id": "zC-yuzWBD3Hy"
      },
      "outputs": [],
      "source": [
        "cap = cv2.VideoCapture(0)\n",
        "    \n",
        "for video in range(no_videos):\n",
        "    for frame_num in range(sequences_length):\n",
        "\n",
        "        ret, frame = cap.read()\n",
        "\n",
        "        keypoints_with_scores = movenet_keypoints(frame, input_size=192)\n",
        "        draw_keypoints(frame, keypoints_with_scores, 0.2)\n",
        "        draw_connections(frame, keypoints_with_scores, EDGES, 0.2)\n",
        "\n",
        "        if frame_num==0:\n",
        "            cv2.putText(frame,'COLLECTION START for run',(150,200),\n",
        "                        cv2.FONT_HERSHEY_COMPLEX,1,(0,0,255),4,cv2.LINE_AA)\n",
        "            cv2.putText(frame,f'collecting frames for run video numer {video}',(15,12),\n",
        "                        cv2.FONT_HERSHEY_COMPLEX,.5,(0,255,0),1,cv2.LINE_AA)\n",
        "            cv2.imshow('Webcam Feed', frame)\n",
        "            cv2.waitKey(2000)\n",
        "\n",
        "        else:\n",
        "            cv2.putText(frame,f'collecting frames for run video numer {video}',(15,12),\n",
        "            cv2.FONT_HERSHEY_COMPLEX,0.5,(0,255,0),1,cv2.LINE_AA)\n",
        "\n",
        "            cv2.imshow('Webcam Feed', frame)\n",
        "            \n",
        "            \n",
        "        keypoints = np.squeeze(keypoints_with_scores).flatten()\n",
        "\n",
        "        npy_path = os.path.join(data_path,'run',str(video),str(frame_num))\n",
        "        np.save(npy_path,keypoints)\n",
        "\n",
        "        if cv2.waitKey(10) & 0xFF == ord('q'):\n",
        "            break\n",
        "\n",
        "cap.release()\n",
        "cv2.destroyAllWindows()"
      ]
    },
    {
      "cell_type": "code",
      "execution_count": null,
      "metadata": {
        "id": "CFcz0qf2D3H0"
      },
      "outputs": [],
      "source": [
        ""
      ]
    }
  ],
  "metadata": {
    "kernelspec": {
      "display_name": "Python 3 (ipykernel)",
      "language": "python",
      "name": "python3"
    },
    "language_info": {
      "codemirror_mode": {
        "name": "ipython",
        "version": 3
      },
      "file_extension": ".py",
      "mimetype": "text/x-python",
      "name": "python",
      "nbconvert_exporter": "python",
      "pygments_lexer": "ipython3",
      "version": "3.9.7"
    },
    "colab": {
      "name": "body move detection for game(nich).ipynb",
      "provenance": [],
      "include_colab_link": true
    }
  },
  "nbformat": 4,
  "nbformat_minor": 0
}